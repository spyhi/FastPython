{
 "cells": [
  {
   "cell_type": "markdown",
   "metadata": {},
   "source": [
    "# Python for Performance\n",
    "\n",
    "Python is not a fast language. Compared to other mainstream programming languages like Java, C#, Go, Javascript, C++, etc, Python is 2-10x slower on executing comparable tasks. If that's the case, why is Python so popular in applications with heavy number-crunching aspects like scientific computing, data science, and machine learning?\n",
    "\n",
    "The answer, of course, is that Python is fun and easy to program in and requires little boilerplate code compared to these other languages. But, more importantly, **it doesn't matter that Python is slow** because it can be extended using _\"Native Modules\"_ which are written in these other fast languages and can be used as though they were pure Python.\n",
    "\n",
    "Some of you may be using these modules already! NumPy and Pandas are among the most popular Python packages, and both rely on C and even FORTRAN to speed up the most peformance-critical paths of their libraries. Machine learning libraries like Tensorflow are also largely written in C and C++ for speed, but also to access low-level features in the CPU and GPU. Native modules are an important part of how Python has remained relevant in this brave new big-data world."
   ]
  },
  {
   "cell_type": "code",
   "execution_count": null,
   "metadata": {},
   "outputs": [],
   "source": []
  }
 ],
 "metadata": {
  "kernelspec": {
   "display_name": "Python 3",
   "language": "python",
   "name": "python3"
  },
  "language_info": {
   "codemirror_mode": {
    "name": "ipython",
    "version": 3
   },
   "file_extension": ".py",
   "mimetype": "text/x-python",
   "name": "python",
   "nbconvert_exporter": "python",
   "pygments_lexer": "ipython3",
   "version": "3.7.3"
  }
 },
 "nbformat": 4,
 "nbformat_minor": 2
}
